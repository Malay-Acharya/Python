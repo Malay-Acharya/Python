{
 "cells": [
  {
   "cell_type": "code",
   "execution_count": 3,
   "metadata": {},
   "outputs": [
    {
     "name": "stdout",
     "output_type": "stream",
     "text": [
      "I with wordcount 8\n",
      "the with wordcount 8\n"
     ]
    }
   ],
   "source": [
    "wordc = {}\n",
    "maxc = 0\n",
    "with open(\"poem.txt\") as f:\n",
    "    for line in f:\n",
    "        words = line.split(' ')\n",
    "        for word in words:\n",
    "            if word in wordc:\n",
    "                wordc[word] +=1\n",
    "                if maxc < wordc[word]:\n",
    "                    maxc = wordc[word]\n",
    "            else:\n",
    "                wordc[word] = 1\n",
    "    \n",
    "for items in wordc:\n",
    "    if wordc[items] == maxc:\n",
    "        print(f\"{items} with wordcount {maxc}\")"
   ]
  },
  {
   "cell_type": "code",
   "execution_count": null,
   "metadata": {},
   "outputs": [],
   "source": []
  }
 ],
 "metadata": {
  "interpreter": {
   "hash": "311d79ca34856f2d253e72ad0b83449d2718a119a275a0aeb31fc145a47d687b"
  },
  "kernelspec": {
   "display_name": "Python 3.8.10 64-bit",
   "language": "python",
   "name": "python3"
  },
  "language_info": {
   "codemirror_mode": {
    "name": "ipython",
    "version": 3
   },
   "file_extension": ".py",
   "mimetype": "text/x-python",
   "name": "python",
   "nbconvert_exporter": "python",
   "pygments_lexer": "ipython3",
   "version": "3.8.10"
  },
  "orig_nbformat": 4
 },
 "nbformat": 4,
 "nbformat_minor": 2
}
