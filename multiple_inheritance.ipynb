{
 "cells": [
  {
   "cell_type": "code",
   "execution_count": 6,
   "metadata": {},
   "outputs": [
    {
     "name": "stdout",
     "output_type": "stream",
     "text": [
      "teacher with Mathematics\n",
      "I run the ok tested channel on youtube\n",
      "Currently learning physics\n"
     ]
    }
   ],
   "source": [
    "class Teacher:\n",
    "    def __init__(self, subject):\n",
    "        self.role = \"teacher\"\n",
    "        self.subject = subject\n",
    "\n",
    "    def display(self):\n",
    "        print(f\"{self.role} with {self.subject}\")\n",
    "\n",
    "class Youtuber:\n",
    "    def __init__(self, channel):\n",
    "        self.channel = channel\n",
    "\n",
    "    def display(self):\n",
    "        print(f\"I run the {self.channel} channel on youtube\")\n",
    "\n",
    "class Student(Teacher, Youtuber):\n",
    "    def __init__(self, learning):\n",
    "        Teacher.__init__(self,\"Mathematics\")\n",
    "        Youtuber.__init__(self,\"ok tested\")\n",
    "        self.learning = learning\n",
    "\n",
    "    def display(self):\n",
    "        Teacher.display(self)\n",
    "        Youtuber.display(self)\n",
    "        print(f\"Currently learning {self.learning}\")\n",
    "\n",
    "\n",
    "mrt = Student(\"physics\")\n",
    "mrt.display()"
   ]
  },
  {
   "cell_type": "code",
   "execution_count": null,
   "metadata": {},
   "outputs": [],
   "source": []
  }
 ],
 "metadata": {
  "interpreter": {
   "hash": "311d79ca34856f2d253e72ad0b83449d2718a119a275a0aeb31fc145a47d687b"
  },
  "kernelspec": {
   "display_name": "Python 3.8.10 64-bit",
   "language": "python",
   "name": "python3"
  },
  "language_info": {
   "codemirror_mode": {
    "name": "ipython",
    "version": 3
   },
   "file_extension": ".py",
   "mimetype": "text/x-python",
   "name": "python",
   "nbconvert_exporter": "python",
   "pygments_lexer": "ipython3",
   "version": "3.8.10"
  },
  "orig_nbformat": 4
 },
 "nbformat": 4,
 "nbformat_minor": 2
}
