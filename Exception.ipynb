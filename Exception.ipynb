{
 "cells": [
  {
   "cell_type": "code",
   "execution_count": 7,
   "metadata": {},
   "outputs": [
    {
     "name": "stdout",
     "output_type": "stream",
     "text": [
      "Exception occured: Person is a minor\n",
      "This will execute always\n"
     ]
    }
   ],
   "source": [
    "class AdultException(Exception):\n",
    "    def __init__(self, message):\n",
    "        self.message = message\n",
    "\n",
    "    def handle(self):\n",
    "        print(f\"Exception occured: {self.message}\")\n",
    "\n",
    "try:\n",
    "    class Person:\n",
    "        def __init__(self, age, name):\n",
    "            self.age = age\n",
    "            self.name = name\n",
    "\n",
    "        def get_minor_age(self):\n",
    "            if self.age < 18:\n",
    "                raise AdultException(\"Person is a minor\")\n",
    "            else:\n",
    "                print(self.age)\n",
    "\n",
    "    mnt = Person(17, \"MRTI\")\n",
    "    mnt.get_minor_age()\n",
    "\n",
    "except Exception as e:\n",
    "    e.handle()\n",
    "\n",
    "finally:\n",
    "    print(\"This will execute always\")\n"
   ]
  },
  {
   "cell_type": "code",
   "execution_count": null,
   "metadata": {},
   "outputs": [],
   "source": []
  }
 ],
 "metadata": {
  "interpreter": {
   "hash": "311d79ca34856f2d253e72ad0b83449d2718a119a275a0aeb31fc145a47d687b"
  },
  "kernelspec": {
   "display_name": "Python 3.8.10 64-bit",
   "language": "python",
   "name": "python3"
  },
  "language_info": {
   "codemirror_mode": {
    "name": "ipython",
    "version": 3
   },
   "file_extension": ".py",
   "mimetype": "text/x-python",
   "name": "python",
   "nbconvert_exporter": "python",
   "pygments_lexer": "ipython3",
   "version": "3.8.10"
  },
  "orig_nbformat": 4
 },
 "nbformat": 4,
 "nbformat_minor": 2
}
