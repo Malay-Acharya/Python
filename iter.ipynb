{
 "cells": [
  {
   "cell_type": "code",
   "execution_count": 3,
   "metadata": {},
   "outputs": [
    {
     "name": "stdout",
     "output_type": "stream",
     "text": [
      "0\n",
      "1\n",
      "2\n",
      "3\n",
      "5\n",
      "8\n",
      "13\n",
      "21\n",
      "34\n"
     ]
    },
    {
     "ename": "StopIteration",
     "evalue": "",
     "output_type": "error",
     "traceback": [
      "\u001b[1;31m---------------------------------------------------------------------------\u001b[0m",
      "\u001b[1;31mStopIteration\u001b[0m                             Traceback (most recent call last)",
      "\u001b[1;32mc:\\Users\\malay\\OneDrive\\Desktop\\Python\\iter.ipynb Cell 1'\u001b[0m in \u001b[0;36m<cell line: 29>\u001b[1;34m()\u001b[0m\n\u001b[0;32m     <a href='vscode-notebook-cell:/c%3A/Users/malay/OneDrive/Desktop/Python/iter.ipynb#ch0000000?line=27'>28</a>\u001b[0m itr \u001b[39m=\u001b[39m \u001b[39miter\u001b[39m(Fibo(\u001b[39m10\u001b[39m))\n\u001b[0;32m     <a href='vscode-notebook-cell:/c%3A/Users/malay/OneDrive/Desktop/Python/iter.ipynb#ch0000000?line=28'>29</a>\u001b[0m \u001b[39mfor\u001b[39;00m i \u001b[39min\u001b[39;00m \u001b[39mrange\u001b[39m(\u001b[39m10\u001b[39m):\n\u001b[1;32m---> <a href='vscode-notebook-cell:/c%3A/Users/malay/OneDrive/Desktop/Python/iter.ipynb#ch0000000?line=29'>30</a>\u001b[0m     \u001b[39mprint\u001b[39m(\u001b[39mnext\u001b[39;49m(itr))\n",
      "\u001b[1;32mc:\\Users\\malay\\OneDrive\\Desktop\\Python\\iter.ipynb Cell 1'\u001b[0m in \u001b[0;36mFibo.__next__\u001b[1;34m(self)\u001b[0m\n\u001b[0;32m     <a href='vscode-notebook-cell:/c%3A/Users/malay/OneDrive/Desktop/Python/iter.ipynb#ch0000000?line=20'>21</a>\u001b[0m \u001b[39mself\u001b[39m\u001b[39m.\u001b[39mcount \u001b[39m+\u001b[39m\u001b[39m=\u001b[39m\u001b[39m1\u001b[39m\n\u001b[0;32m     <a href='vscode-notebook-cell:/c%3A/Users/malay/OneDrive/Desktop/Python/iter.ipynb#ch0000000?line=22'>23</a>\u001b[0m \u001b[39mif\u001b[39;00m \u001b[39mself\u001b[39m\u001b[39m.\u001b[39mcount \u001b[39m==\u001b[39m \u001b[39mself\u001b[39m\u001b[39m.\u001b[39mlimit:\n\u001b[1;32m---> <a href='vscode-notebook-cell:/c%3A/Users/malay/OneDrive/Desktop/Python/iter.ipynb#ch0000000?line=23'>24</a>\u001b[0m     \u001b[39mraise\u001b[39;00m \u001b[39mStopIteration\u001b[39;00m\n\u001b[0;32m     <a href='vscode-notebook-cell:/c%3A/Users/malay/OneDrive/Desktop/Python/iter.ipynb#ch0000000?line=25'>26</a>\u001b[0m \u001b[39mreturn\u001b[39;00m \u001b[39mself\u001b[39m\u001b[39m.\u001b[39mfib(\u001b[39mself\u001b[39m\u001b[39m.\u001b[39mcount \u001b[39m-\u001b[39m \u001b[39m1\u001b[39m) \u001b[39m+\u001b[39m \u001b[39mself\u001b[39m\u001b[39m.\u001b[39mfib(\u001b[39mself\u001b[39m\u001b[39m.\u001b[39mcount \u001b[39m-\u001b[39m \u001b[39m2\u001b[39m)\n",
      "\u001b[1;31mStopIteration\u001b[0m: "
     ]
    }
   ],
   "source": [
    "class Fibo:\n",
    "    def __init__(self,limit):\n",
    "        self.limit = limit\n",
    "        self.count = 0\n",
    "\n",
    "    def fib(self,n):\n",
    "        if n <= 0:\n",
    "            return 0\n",
    "        elif n == 1:\n",
    "            return 1\n",
    "\n",
    "        return self.fib(n-1) + self.fib(n-2)\n",
    "        \n",
    "        \n",
    "\n",
    "    def __iter__(self):\n",
    "        return self\n",
    "\n",
    "    def __next__(self):\n",
    "\n",
    "        self.count +=1\n",
    "\n",
    "        if self.count == self.limit:\n",
    "            raise StopIteration\n",
    "\n",
    "        return self.fib(self.count - 1) + self.fib(self.count - 2)\n",
    "\n",
    "itr = iter(Fibo(10))\n",
    "for i in range(10):\n",
    "    print(next(itr))\n"
   ]
  },
  {
   "cell_type": "code",
   "execution_count": null,
   "metadata": {},
   "outputs": [],
   "source": []
  }
 ],
 "metadata": {
  "interpreter": {
   "hash": "311d79ca34856f2d253e72ad0b83449d2718a119a275a0aeb31fc145a47d687b"
  },
  "kernelspec": {
   "display_name": "Python 3.8.10 64-bit",
   "language": "python",
   "name": "python3"
  },
  "language_info": {
   "codemirror_mode": {
    "name": "ipython",
    "version": 3
   },
   "file_extension": ".py",
   "mimetype": "text/x-python",
   "name": "python",
   "nbconvert_exporter": "python",
   "pygments_lexer": "ipython3",
   "version": "3.8.10"
  },
  "orig_nbformat": 4
 },
 "nbformat": 4,
 "nbformat_minor": 2
}
