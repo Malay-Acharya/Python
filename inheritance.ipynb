{
 "cells": [
  {
   "cell_type": "code",
   "execution_count": 4,
   "metadata": {},
   "outputs": [
    {
     "name": "stdout",
     "output_type": "stream",
     "text": [
      "I am a Dog with 4 legs and I can Woof Woof. I live at mountain\n"
     ]
    }
   ],
   "source": [
    "class Animal:\n",
    "    def __init__(self,habitat):\n",
    "        self.talk = False\n",
    "        self.habitat = habitat\n",
    "\n",
    "\n",
    "class Dog(Animal):\n",
    "    def __init__(self):\n",
    "        self.legs = 4\n",
    "        self.voice = \"Woof\"\n",
    "        super().__init__(\"mountain\")\n",
    "\n",
    "    def display(self):\n",
    "        print(f\"I am a Dog with {self.legs} legs and I can {self.voice} {self.voice}. I live at {self.habitat}\")\n",
    "\n",
    "\n",
    "tom = Dog()\n",
    "tom.display()"
   ]
  },
  {
   "cell_type": "code",
   "execution_count": null,
   "metadata": {},
   "outputs": [],
   "source": []
  }
 ],
 "metadata": {
  "interpreter": {
   "hash": "311d79ca34856f2d253e72ad0b83449d2718a119a275a0aeb31fc145a47d687b"
  },
  "kernelspec": {
   "display_name": "Python 3.8.10 64-bit",
   "language": "python",
   "name": "python3"
  },
  "language_info": {
   "codemirror_mode": {
    "name": "ipython",
    "version": 3
   },
   "file_extension": ".py",
   "mimetype": "text/x-python",
   "name": "python",
   "nbconvert_exporter": "python",
   "pygments_lexer": "ipython3",
   "version": "3.8.10"
  },
  "orig_nbformat": 4
 },
 "nbformat": 4,
 "nbformat_minor": 2
}
