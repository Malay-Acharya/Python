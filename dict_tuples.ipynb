{
 "cells": [
  {
   "cell_type": "code",
   "execution_count": 7,
   "metadata": {},
   "outputs": [
    {
     "name": "stdout",
     "output_type": "stream",
     "text": [
      "143\n"
     ]
    }
   ],
   "source": [
    "d = {\"China\":143,\"India\":136,\"USA\":32,\"Pakistan\":32}\n",
    "\n",
    "def prt(d):\n",
    "    for i in d:\n",
    "        print(f\"{i}==>{d[i]}\")\n",
    "\n",
    "inp = input(\"Enter the input\")\n",
    "if inp == \"print\":\n",
    "    prt(d)\n",
    "elif inp == \"add\":\n",
    "    a = input(\"Enter the country to add\")\n",
    "    if a in d:\n",
    "        print(\"Country already exists in our database\")\n",
    "    else:\n",
    "        d[a] = int(input(\"Enter the value\"))\n",
    "elif inp == \"remove\":\n",
    "    a = input(\"Enter the country to be removed\")\n",
    "    if a in d:\n",
    "        del d[a]\n",
    "        prt(d)\n",
    "    else:\n",
    "        print(\"Country not found in database\")\n",
    "elif inp ==\"query\":\n",
    "    a = input(\"Which country do you want to query\")\n",
    "    if a in d:\n",
    "        print(d[a])\n",
    "    else:\n",
    "        print(\"Country not found in our database\")"
   ]
  },
  {
   "cell_type": "code",
   "execution_count": 12,
   "metadata": {},
   "outputs": [
    {
     "name": "stdout",
     "output_type": "stream",
     "text": [
      "info ==> [600, 630, 620] ==> avg: 616.67\n",
      "ril ==> [1430, 1490, 1567] ==> avg: 1495.67\n",
      "mtl ==> [234, 180, 160] ==> avg: 191.33\n"
     ]
    }
   ],
   "source": [
    "stocks = {\"info\":[600,630,620], \"ril\":[1430,1490,1567], \"mtl\":[234,180,160]}\n",
    "a = input(\"Enter the operation\")\n",
    "if a == \"print\":\n",
    "    for item in stocks:\n",
    "        avg = 0\n",
    "        for i in stocks[item]:\n",
    "            avg += i\n",
    "\n",
    "        avg = avg/len(stocks[item])\n",
    "        print(f\"{item} ==> {stocks[item]} ==> avg: {avg:.2f}\")\n",
    "if a == \"add\":\n",
    "    inp = input(\"Enter the stock\")\n",
    "    val = input(\"Enter the amount\")\n",
    "    if inp in stocks:\n",
    "        stocks[inp].append(val)\n",
    "    else:\n",
    "        stocks[inp] = [val]\n",
    "        print(f\"{inp} ==> {stocks[inp]}\")\n",
    "        "
   ]
  },
  {
   "cell_type": "code",
   "execution_count": 15,
   "metadata": {},
   "outputs": [
    {
     "name": "stdout",
     "output_type": "stream",
     "text": [
      "1133.54 119.32 38.00\n"
     ]
    }
   ],
   "source": [
    "def circle_cal(rad):\n",
    "    return(3.14*rad*rad, 2*3.14*rad,2*rad)\n",
    "\n",
    "r = circle_cal(19)\n",
    "print(f\"{r[0]:.2f} {r[1]:.2f} {r[2]:.2f}\")"
   ]
  },
  {
   "cell_type": "code",
   "execution_count": null,
   "metadata": {},
   "outputs": [],
   "source": []
  }
 ],
 "metadata": {
  "interpreter": {
   "hash": "311d79ca34856f2d253e72ad0b83449d2718a119a275a0aeb31fc145a47d687b"
  },
  "kernelspec": {
   "display_name": "Python 3.8.10 64-bit",
   "language": "python",
   "name": "python3"
  },
  "language_info": {
   "codemirror_mode": {
    "name": "ipython",
    "version": 3
   },
   "file_extension": ".py",
   "mimetype": "text/x-python",
   "name": "python",
   "nbconvert_exporter": "python",
   "pygments_lexer": "ipython3",
   "version": "3.8.10"
  },
  "orig_nbformat": 4
 },
 "nbformat": 4,
 "nbformat_minor": 2
}
